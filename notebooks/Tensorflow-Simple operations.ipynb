{
 "cells": [
  {
   "cell_type": "markdown",
   "metadata": {
    "slideshow": {
     "slide_type": "-"
    }
   },
   "source": [
    "# What is TensorFlow\n",
    "\n",
    "**TensorFlow** is a programming system in which you represent computations as **graphs**. \n",
    "\n",
    "* Nodes in the graph are called *ops* (short for operations). \n",
    "* An op takes zero or more `Tensors`, performs some computation, and produces zero or more `Tensors`.\n",
    "* A `Tensor` is a typed multi-dimensional array. \n",
    "* A TensorFlow `graph` is a description of computations. \n",
    "* To compute anything, a `graph` must be launched in a `Session`. \n",
    "* A Session places the graph ops onto `Devices`, such as CPUs or GPUs, and provides methods to execute them. \n",
    "\n",
    "**TensorFlow** is a way of representing computation without actually performing it until asked.\n",
    "In this sense, it is a form of lazy computing, and it allows for some great improvements to the running of code:\n",
    "\n",
    "* Faster computation of complex variables\n",
    "* Distributed computation across multiple systems, including GPUs.\n",
    "* Reduced redundency in some computations"
   ]
  },
  {
   "cell_type": "markdown",
   "metadata": {
    "slideshow": {
     "slide_type": "slide"
    }
   },
   "source": [
    "## Example\n",
    "\n",
    "Consider a Python code:\n",
    "\n",
    "    create a variable x with value 35, set the value of a new variable y to that plus 5, which is currently 40, and print it out"
   ]
  },
  {
   "cell_type": "code",
   "execution_count": 4,
   "metadata": {
    "collapsed": false,
    "slideshow": {
     "slide_type": "fragment"
    }
   },
   "outputs": [
    {
     "name": "stdout",
     "output_type": "stream",
     "text": [
      "40\n"
     ]
    }
   ],
   "source": [
    "x = 35\n",
    "y = x + 5\n",
    "print(y)"
   ]
  },
  {
   "cell_type": "markdown",
   "metadata": {
    "slideshow": {
     "slide_type": "slide"
    }
   },
   "source": [
    "## How to do this in tensorFlow? "
   ]
  },
  {
   "cell_type": "code",
   "execution_count": 5,
   "metadata": {
    "collapsed": false
   },
   "outputs": [
    {
     "name": "stdout",
     "output_type": "stream",
     "text": [
      "<tensorflow.python.ops.variables.Variable object at 0x1049d5190>\n"
     ]
    }
   ],
   "source": [
    "import tensorflow as tf\n",
    "\n",
    "x = tf.constant(35, name='x')\n",
    "y = tf.Variable(x + 5, name='y')\n",
    "\n",
    "print(y)"
   ]
  },
  {
   "cell_type": "markdown",
   "metadata": {
    "slideshow": {
     "slide_type": "subslide"
    }
   },
   "source": [
    "**Not exactly what we expected. **\n",
    "\n",
    "## What exactly does the code do? \n",
    "\n",
    "1. Import the tensorflow module and call it `tf`\n",
    "2. Create a constant value called `x`, and give it the numerical value `35`\n",
    "3. Create a `Variable` called `y`, and define it as being the equation `x + 5`\n",
    "4. Print out the **equation object** for `y`\n",
    "\n",
    "\n"
   ]
  },
  {
   "cell_type": "markdown",
   "metadata": {},
   "source": [
    "## Issue\n",
    "\n",
    "y isn’t given **the current value of x + 5**\n",
    "\n",
    "Let's fix it:"
   ]
  },
  {
   "cell_type": "code",
   "execution_count": 6,
   "metadata": {
    "collapsed": false
   },
   "outputs": [
    {
     "name": "stdout",
     "output_type": "stream",
     "text": [
      "40\n"
     ]
    }
   ],
   "source": [
    "x = tf.constant(35, name='x')\n",
    "y = tf.Variable(x + 5, name='y')\n",
    "\n",
    "model = tf.initialize_all_variables()\n",
    "\n",
    "with tf.Session() as session:\n",
    "    session.run(model)\n",
    "    print(session.run(y))"
   ]
  },
  {
   "cell_type": "markdown",
   "metadata": {},
   "source": [
    "## What does the code do?\n",
    "\n",
    "1. Import the tensorflow module and call it `tf`\n",
    "2. Create a constant value called `x`, and give it the numerical value `35`\n",
    "3. Create a **Variable** called `y`, and define it as being the equation `x + 5`\n",
    "4. Initialize the variables with initialize_all_variables (we will go into more detail on this)\n",
    "5. Create a session for computing the values\n",
    "6. Run the model created in 4\n",
    "7. Run just the variable `y` and print out its current value"
   ]
  },
  {
   "cell_type": "markdown",
   "metadata": {},
   "source": [
    "## Constant\n",
    "\n",
    "Constants can also be arrays"
   ]
  },
  {
   "cell_type": "code",
   "execution_count": 7,
   "metadata": {
    "collapsed": false
   },
   "outputs": [
    {
     "name": "stdout",
     "output_type": "stream",
     "text": [
      "[40 45 50]\n"
     ]
    }
   ],
   "source": [
    "x = tf.constant([35, 40, 45], name='x')\n",
    "y = tf.Variable(x + 5, name='y')\n",
    "\n",
    "\n",
    "model = tf.initialize_all_variables()\n",
    "\n",
    "with tf.Session() as session:\n",
    "    session.run(model)\n",
    "    print(session.run(y))"
   ]
  },
  {
   "cell_type": "markdown",
   "metadata": {},
   "source": [
    "Or `numpy` arrays"
   ]
  },
  {
   "cell_type": "code",
   "execution_count": 12,
   "metadata": {
    "collapsed": false
   },
   "outputs": [
    {
     "name": "stdout",
     "output_type": "stream",
     "text": [
      "[  229 35875    41 ...,  1945  8699 42049]\n"
     ]
    }
   ],
   "source": [
    "import numpy as np\n",
    "data = np.random.randint(100, size=10000)\n",
    "x = tf.constant(data, name='x')\n",
    "y = tf.Variable(5*x**2 -3*x+5, name='y')\n",
    "\n",
    "\n",
    "model = tf.initialize_all_variables()\n",
    "\n",
    "with tf.Session() as session:\n",
    "    session.run(model)\n",
    "    print(session.run(y))"
   ]
  },
  {
   "cell_type": "code",
   "execution_count": 18,
   "metadata": {
    "collapsed": false
   },
   "outputs": [
    {
     "name": "stdout",
     "output_type": "stream",
     "text": [
      "1\n",
      "2\n",
      "3\n",
      "4\n",
      "5\n"
     ]
    }
   ],
   "source": [
    "x = tf.Variable(0, name='x')\n",
    "\n",
    "model = tf.initialize_all_variables()\n",
    "\n",
    "with tf.Session() as session:\n",
    "    for i in range(5):\n",
    "        session.run(model)\n",
    "        x = x + 1\n",
    "        print(session.run(x))"
   ]
  },
  {
   "cell_type": "markdown",
   "metadata": {},
   "source": [
    "# Exercise\n",
    "Create a program that computers the **rolling** average of the following line of code:\n",
    "\n",
    "    np.random.randint(1000)\n",
    "    \n",
    "    \n",
    "In other words, keep looping, and in each loop, call `np.random.randint(1000)` once in that loop, and store the current average in a `Variable` that keeps updating each loop."
   ]
  },
  {
   "cell_type": "code",
   "execution_count": 53,
   "metadata": {
    "collapsed": false
   },
   "outputs": [
    {
     "name": "stdout",
     "output_type": "stream",
     "text": [
      "i:    0   sum:   496   ave:  496.000\n",
      "i:    1   sum:  1429   ave:  714.500\n",
      "i:    2   sum:  1536   ave:  512.000\n",
      "i:    3   sum:  2341   ave:  585.250\n",
      "i:    4   sum:  3192   ave:  638.400\n",
      "i:    5   sum:  4050   ave:  675.000\n",
      "i:    6   sum:  5043   ave:  720.429\n",
      "i:    7   sum:  5102   ave:  637.750\n",
      "i:    8   sum:  5614   ave:  623.778\n",
      "i:    9   sum:  5946   ave:  594.600\n",
      "i:   10   sum:  6308   ave:  573.455\n",
      "i:   11   sum:  6664   ave:  555.333\n",
      "i:   12   sum:  6767   ave:  520.538\n",
      "i:   13   sum:  7258   ave:  518.429\n",
      "i:   14   sum:  7977   ave:  531.800\n",
      "i:   15   sum:  8749   ave:  546.812\n",
      "i:   16   sum:  9431   ave:  554.765\n",
      "i:   17   sum: 10159   ave:  564.389\n",
      "i:   18   sum: 10975   ave:  577.632\n",
      "i:   19   sum: 11953   ave:  597.650\n",
      "i:   20   sum: 12360   ave:  588.571\n",
      "i:   21   sum: 12827   ave:  583.045\n",
      "i:   22   sum: 13148   ave:  571.652\n",
      "i:   23   sum: 13826   ave:  576.083\n",
      "i:   24   sum: 14478   ave:  579.120\n",
      "i:   25   sum: 14649   ave:  563.423\n",
      "i:   26   sum: 15449   ave:  572.185\n",
      "i:   27   sum: 16014   ave:  571.929\n",
      "i:   28   sum: 16934   ave:  583.931\n",
      "i:   29   sum: 17289   ave:  576.300\n",
      "i:   30   sum: 17738   ave:  572.194\n",
      "i:   31   sum: 18410   ave:  575.312\n",
      "i:   32   sum: 18459   ave:  559.364\n",
      "i:   33   sum: 19081   ave:  561.206\n",
      "i:   34   sum: 19154   ave:  547.257\n",
      "i:   35   sum: 19945   ave:  554.028\n",
      "i:   36   sum: 20878   ave:  564.270\n",
      "i:   37   sum: 21526   ave:  566.474\n",
      "i:   38   sum: 21650   ave:  555.128\n",
      "i:   39   sum: 22233   ave:  555.825\n",
      "i:   40   sum: 22777   ave:  555.537\n",
      "i:   41   sum: 23351   ave:  555.976\n",
      "i:   42   sum: 23370   ave:  543.488\n",
      "i:   43   sum: 23820   ave:  541.364\n",
      "i:   44   sum: 24515   ave:  544.778\n",
      "i:   45   sum: 24827   ave:  539.717\n",
      "i:   46   sum: 25210   ave:  536.383\n",
      "i:   47   sum: 26035   ave:  542.396\n",
      "i:   48   sum: 26198   ave:  534.653\n",
      "i:   49   sum: 26767   ave:  535.340\n",
      "i:   50   sum: 26977   ave:  528.961\n",
      "i:   51   sum: 27290   ave:  524.808\n",
      "i:   52   sum: 27864   ave:  525.736\n",
      "i:   53   sum: 28074   ave:  519.889\n",
      "i:   54   sum: 28521   ave:  518.564\n",
      "i:   55   sum: 29120   ave:  520.000\n",
      "i:   56   sum: 29586   ave:  519.053\n",
      "i:   57   sum: 30505   ave:  525.948\n",
      "i:   58   sum: 31428   ave:  532.678\n",
      "i:   59   sum: 31963   ave:  532.717\n",
      "i:   60   sum: 32543   ave:  533.492\n",
      "i:   61   sum: 33340   ave:  537.742\n",
      "i:   62   sum: 34118   ave:  541.556\n",
      "i:   63   sum: 34749   ave:  542.953\n",
      "i:   64   sum: 35568   ave:  547.200\n",
      "i:   65   sum: 35585   ave:  539.167\n",
      "i:   66   sum: 36161   ave:  539.716\n",
      "i:   67   sum: 36418   ave:  535.559\n",
      "i:   68   sum: 36514   ave:  529.188\n",
      "i:   69   sum: 37002   ave:  528.600\n",
      "i:   70   sum: 37426   ave:  527.127\n",
      "i:   71   sum: 37520   ave:  521.111\n",
      "i:   72   sum: 37678   ave:  516.137\n",
      "i:   73   sum: 38239   ave:  516.743\n",
      "i:   74   sum: 38571   ave:  514.280\n",
      "i:   75   sum: 38822   ave:  510.816\n",
      "i:   76   sum: 39072   ave:  507.429\n",
      "i:   77   sum: 39501   ave:  506.423\n",
      "i:   78   sum: 40125   ave:  507.911\n",
      "i:   79   sum: 40624   ave:  507.800\n",
      "i:   80   sum: 40898   ave:  504.914\n",
      "i:   81   sum: 41660   ave:  508.049\n",
      "i:   82   sum: 41970   ave:  505.663\n",
      "i:   83   sum: 42526   ave:  506.262\n",
      "i:   84   sum: 43468   ave:  511.388\n",
      "i:   85   sum: 44432   ave:  516.651\n",
      "i:   86   sum: 44800   ave:  514.943\n",
      "i:   87   sum: 45231   ave:  513.989\n",
      "i:   88   sum: 45435   ave:  510.506\n",
      "i:   89   sum: 46015   ave:  511.278\n",
      "i:   90   sum: 46779   ave:  514.055\n",
      "i:   91   sum: 47430   ave:  515.543\n",
      "i:   92   sum: 48023   ave:  516.376\n",
      "i:   93   sum: 48047   ave:  511.138\n",
      "i:   94   sum: 48506   ave:  510.589\n",
      "i:   95   sum: 49153   ave:  512.010\n",
      "i:   96   sum: 49972   ave:  515.175\n",
      "i:   97   sum: 50055   ave:  510.765\n",
      "i:   98   sum: 51039   ave:  515.545\n",
      "i:   99   sum: 51782   ave:  517.820\n"
     ]
    }
   ],
   "source": [
    "from __future__ import division\n",
    "x = tf.Variable(0, name='x')\n",
    "\n",
    "model = tf.initialize_all_variables()\n",
    "\n",
    "with tf.Session() as session:\n",
    "    for i in range(100):\n",
    "        session.run(model)\n",
    "        x = x + np.random.randint(1000)\n",
    "        \n",
    "        y = x/(i+1)\n",
    "        \n",
    "        print('i: {:4d}   sum: {:5d}   ave: {:8.3f}'.format(i,session.run(x),session.run(y)))\n"
   ]
  }
 ],
 "metadata": {
  "kernelspec": {
   "display_name": "Python 2",
   "language": "python",
   "name": "python2"
  },
  "language_info": {
   "codemirror_mode": {
    "name": "ipython",
    "version": 2
   },
   "file_extension": ".py",
   "mimetype": "text/x-python",
   "name": "python",
   "nbconvert_exporter": "python",
   "pygments_lexer": "ipython2",
   "version": "2.7.11"
  }
 },
 "nbformat": 4,
 "nbformat_minor": 0
}
